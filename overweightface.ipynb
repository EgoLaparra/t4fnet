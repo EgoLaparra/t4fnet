{
 "cells": [
  {
   "cell_type": "code",
   "execution_count": 8,
   "metadata": {
    "collapsed": false
   },
   "outputs": [],
   "source": [
    "import os\n",
    "import pandas as pd\n",
    "import glob\n",
    "import menpo.io as mio\n",
    "from menpodetect import load_opencv_frontal_face_detector, load_opencv_profile_face_detector\n",
    "from menpowidgets import visualize_images"
   ]
  },
  {
   "cell_type": "code",
   "execution_count": 9,
   "metadata": {
    "collapsed": true
   },
   "outputs": [],
   "source": [
    "front = load_opencv_frontal_face_detector()\n",
    "side = load_opencv_profile_face_detector()"
   ]
  },
  {
   "cell_type": "code",
   "execution_count": 67,
   "metadata": {
    "collapsed": false
   },
   "outputs": [],
   "source": [
    "annos = pd.DataFrame.from_csv('gold.tsv',header=0,sep=\"\\t\")\n",
    "#annos"
   ]
  },
  {
   "cell_type": "code",
   "execution_count": 87,
   "metadata": {
    "collapsed": false
   },
   "outputs": [],
   "source": [
    "height = 227\n",
    "width = 227\n",
    "channels = 3\n",
    "\n",
    "images = []\n",
    "labels = []\n",
    "for fp in glob.glob('./img/*.JPG'):\n",
    "    fn = os.path.basename(fp)\n",
    "    labels.append(annos.loc[annos['file'] == fn]['ow'].sum())\n",
    "    image = mio.import_image(fp)\n",
    "    front(image)\n",
    "    if(image.n_landmark_groups == 0):\n",
    "        side(image)\n",
    "    if(image.n_landmark_groups > 0):\n",
    "        image = image.crop_to_landmarks()\n",
    "    else:\n",
    "        cropwidth = min(image.height, image.width) / 2\n",
    "        x1 = image.height - cropwidth\n",
    "        image = image.crop((image.height / 2 - cropwidth, image.width / 2 - cropwidth), \n",
    "                           (image.height / 2 + cropwidth, image.width / 2 + cropwidth))\n",
    "    image = image.resize((height, width))\n",
    "    images.append(image)\n",
    "    mio.export_image(image, \"./cropped/\" + fn, \"jpg\", overwrite=True)\n",
    "\n",
    "#visualize_images(images)\n"
   ]
  },
  {
   "cell_type": "code",
   "execution_count": 89,
   "metadata": {
    "collapsed": true
   },
   "outputs": [],
   "source": [
    "import numpy as np\n",
    "np.random.seed(1337)  # for reproducibility\n",
    "\n",
    "# returns (X_train, y_train), (X_test, y_test)\n",
    "def randomSplit(X, y, propTest):\n",
    "    assert X.shape[0] == y.shape[0]\n",
    "    p = np.random.permutation(len(y))\n",
    "    sX, sy = X[p], y[p]\n",
    "    cutoff = round(propTest * len(y))\n",
    "    return (sX[cutoff:], sy[cutoff:]), (sX[0:cutoff], sy[0:cutoff])\n"
   ]
  },
  {
   "cell_type": "code",
   "execution_count": 95,
   "metadata": {
    "collapsed": false
   },
   "outputs": [
    {
     "name": "stdout",
     "output_type": "stream",
     "text": [
      "X_train shape: (6, 227, 227, 3)\n",
      "6 train samples\n",
      "3 test samples\n",
      "y_train shape: (6, 3)\n",
      "Train on 6 samples, validate on 3 samples\n",
      "Epoch 1/12\n",
      "6/6 [==============================] - 53s - loss: 1.0998 - acc: 0.1667 - val_loss: 10.4255 - val_acc: 0.3333\n",
      "Epoch 2/12\n",
      "6/6 [==============================] - 48s - loss: 2.6864 - acc: 0.8333 - val_loss: 10.4361 - val_acc: 0.3333\n",
      "Epoch 3/12\n",
      "6/6 [==============================] - 60s - loss: 1.6928 - acc: 0.8333 - val_loss: 0.9659 - val_acc: 0.6667\n",
      "Epoch 4/12\n",
      "6/6 [==============================] - 45s - loss: 1.4251 - acc: 0.0000e+00 - val_loss: 3.5597 - val_acc: 0.3333\n",
      "Epoch 5/12\n",
      "6/6 [==============================] - 47s - loss: 0.6232 - acc: 0.8333 - val_loss: 1.0839 - val_acc: 0.0000e+00\n",
      "Epoch 6/12\n",
      "6/6 [==============================] - 46s - loss: 1.0256 - acc: 0.6667 - val_loss: 2.2008 - val_acc: 0.3333\n",
      "Epoch 7/12\n",
      "6/6 [==============================] - 45s - loss: 0.5842 - acc: 0.8333 - val_loss: 0.7967 - val_acc: 0.6667\n",
      "Epoch 8/12\n",
      "6/6 [==============================] - 62s - loss: 0.5962 - acc: 0.8333 - val_loss: 3.3744 - val_acc: 0.3333\n",
      "Epoch 9/12\n",
      "6/6 [==============================] - 54s - loss: 0.3872 - acc: 0.8333 - val_loss: 1.7449 - val_acc: 0.3333\n",
      "Epoch 10/12\n",
      "6/6 [==============================] - 45s - loss: 0.3902 - acc: 0.8333 - val_loss: 1.7635 - val_acc: 0.3333\n",
      "Epoch 11/12\n",
      "6/6 [==============================] - 50s - loss: 0.0614 - acc: 1.0000 - val_loss: 10.4609 - val_acc: 0.3333\n",
      "Epoch 12/12\n",
      "6/6 [==============================] - 43s - loss: 1.2037 - acc: 0.8333 - val_loss: 1.1297 - val_acc: 0.0000e+00\n",
      "Test score: 1.12971031666\n",
      "Test accuracy: 0.0\n"
     ]
    }
   ],
   "source": [
    "from keras.models import Sequential\n",
    "from keras.layers import Dense, Dropout, Activation, Flatten\n",
    "from keras.layers import Convolution3D, MaxPooling3D\n",
    "from keras.utils import np_utils\n",
    "from keras import backend as K\n",
    "\n",
    "batch_size = 64\n",
    "nb_classes = 3\n",
    "nb_epoch = 12\n",
    "\n",
    "# input image dimensions\n",
    "img_rows, img_cols, img_channels = height, width, channels\n",
    "# number of convolutional filters to use\n",
    "nb_filters = 96\n",
    "# size of pooling area for max pooling\n",
    "pool_size = (3, 3)\n",
    "# convolution kernel size\n",
    "kernel_size = (7, 7)\n",
    "\n",
    "Xs = np.stack([img.pixels for img in images])\n",
    "if K.image_dim_ordering() == 'tf':\n",
    "    Xs = Xs.reshape(Xs.shape[0], img_rows, img_cols, channels)\n",
    "    input_shape = input_shape = (img_rows, img_cols, channels)\n",
    "else:\n",
    "    input_shape = (channels, img_rows, img_cols)\n",
    "    \n",
    "ys = np.array(labels)\n",
    "(X_train, y_train), (X_test, y_test) = randomSplit(Xs, ys, 0.3)\n",
    "\n",
    "X_train = X_train.astype('float32')\n",
    "X_test = X_test.astype('float32')\n",
    "print('X_train shape:', X_train.shape)\n",
    "print(X_train.shape[0], 'train samples')\n",
    "print(X_test.shape[0], 'test samples')\n",
    "\n",
    "# convert class vectors to trinary class matrices\n",
    "y_train = np_utils.to_categorical(y_train, nb_classes)\n",
    "y_test = np_utils.to_categorical(y_test, nb_classes)\n",
    "\n",
    "print('y_train shape:', y_train.shape)\n",
    "\n",
    "model = Sequential()\n",
    "\n",
    "model.add(Convolution2D(nb_filters, kernel_size[0], kernel_size[1],\n",
    "                        border_mode='valid',\n",
    "                        input_shape=input_shape))\n",
    "model.add(Activation('relu'))\n",
    "model.add(Convolution2D(nb_filters, kernel_size[0], kernel_size[1]))\n",
    "model.add(Activation('relu'))\n",
    "model.add(MaxPooling2D(pool_size=pool_size))\n",
    "model.add(Dropout(0.25))\n",
    "\n",
    "model.add(Flatten())\n",
    "model.add(Dense(128))\n",
    "model.add(Activation('relu'))\n",
    "model.add(Dropout(0.5))\n",
    "model.add(Dense(nb_classes))\n",
    "model.add(Activation('softmax'))\n",
    "\n",
    "model.compile(loss='categorical_crossentropy',\n",
    "              optimizer='adadelta',\n",
    "              metrics=['accuracy'])\n",
    "\n",
    "model.fit(X_train, y_train, batch_size=batch_size, nb_epoch=nb_epoch,\n",
    "          verbose=1, validation_data=(X_test, y_test))\n",
    "score = model.evaluate(X_test, y_test, verbose=0)\n",
    "print('Test score:', score[0])\n",
    "print('Test accuracy:', score[1])\n",
    "\n"
   ]
  }
 ],
 "metadata": {
  "anaconda-cloud": {},
  "kernelspec": {
   "display_name": "Python 3",
   "language": "python",
   "name": "python3"
  },
  "language_info": {
   "codemirror_mode": {
    "name": "ipython",
    "version": 3
   },
   "file_extension": ".py",
   "mimetype": "text/x-python",
   "name": "python",
   "nbconvert_exporter": "python",
   "pygments_lexer": "ipython3",
   "version": "3.5.2"
  }
 },
 "nbformat": 4,
 "nbformat_minor": 1
}
