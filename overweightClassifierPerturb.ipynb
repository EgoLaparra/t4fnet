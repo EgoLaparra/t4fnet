{
 "cells": [
  {
   "cell_type": "code",
   "execution_count": 1,
   "metadata": {
    "collapsed": false
   },
   "outputs": [
    {
     "name": "stderr",
     "output_type": "stream",
     "text": [
      "Using TensorFlow backend.\n"
     ]
    }
   ],
   "source": [
    "import os\n",
    "import pandas as pd\n",
    "import glob\n",
    "import menpo.io as mio\n",
    "import numpy as np\n",
    "#np.random.seed(1337)  # for reproducibility\n",
    "from keras.utils import np_utils\n",
    "from keras import backend as K"
   ]
  },
  {
   "cell_type": "code",
   "execution_count": 2,
   "metadata": {
    "collapsed": false
   },
   "outputs": [],
   "source": [
    "# returns (X_train, y_train), (X_test, y_test)\n",
    "def randomSplit(X, y, propTest):\n",
    "    assert X.shape[0] == y.shape[0]\n",
    "    p = np.random.permutation(len(y))\n",
    "    sX, sy = X[p], y[p]\n",
    "    cutoff = round(propTest * len(y))\n",
    "    return (sX[cutoff:], sy[cutoff:]), (sX[0:cutoff], sy[0:cutoff])\n",
    "\n",
    "def randomOrder(X, y):\n",
    "    p = np.random.permutation(len(y))\n",
    "    return X[p], y[p]\n",
    "\n",
    "# based on\n",
    "# http://www.socouldanyone.com/2013/03/converting-grayscale-to-rgb-with-numpy.html\n",
    "def to_rgb(im):\n",
    "    if im.n_channels == 1:\n",
    "        return np.vstack([im.pixels.astype(np.uint8)] * 3)\n",
    "    else:\n",
    "        return im.pixels\n",
    "\n",
    "def subsample(df, col, props = None):\n",
    "    labels = df[col].get_values()\n",
    "    counts = dict()\n",
    "    for l in labels:\n",
    "        counts[l] = counts.get(l, 0) + 1\n",
    "    countsOfProps = dict()\n",
    "    for l in set(labels):\n",
    "        countsOfProps[l] = counts.get(l, 0) * props.get(l, 0)\n",
    "    leastKey = min(countsOfProps, key=countsOfProps.get)\n",
    "    leastVal = round(countsOfProps[leastKey])\n",
    "    thresholds = dict()\n",
    "    for l in set(labels):\n",
    "        if props == None or not leastKey in props: # assume equal parts\n",
    "            thresholds[l] = leastVal\n",
    "        else:\n",
    "            labelToLabel = props.get(l, 0) / props[leastKey]\n",
    "            thresholds[l] = round(labelToLabel * leastVal)\n",
    "    df = df.reindex(np.random.permutation(df.index))\n",
    "    enough = dict()\n",
    "    ret = pd.DataFrame(index=np.arange(0, leastVal / props[leastKey]), columns=df.columns)\n",
    "    i = 0\n",
    "    for index, r in df.iterrows():\n",
    "        if(enough.get(r[col], 0) <= thresholds[r[col]]):\n",
    "            ret.loc[i] = r\n",
    "            enough[r[col]] = enough.get(r[col], 0) + 1\n",
    "            i += 1\n",
    "    return ret\n"
   ]
  },
  {
   "cell_type": "code",
   "execution_count": 3,
   "metadata": {
    "collapsed": true
   },
   "outputs": [],
   "source": [
    "data_file = 'gold.tsv'\n",
    "image_folder = './cropped/' # must end with '/'\n",
    "variable = 'ow' # relevant column of data_file\n",
    "height = 128\n",
    "width = 128\n",
    "channels = 3"
   ]
  },
  {
   "cell_type": "code",
   "execution_count": 4,
   "metadata": {
    "collapsed": false
   },
   "outputs": [],
   "source": [
    "annos = pd.DataFrame.from_csv(data_file, header=0, index_col=None, sep=\"\\t\")\n",
    "props = { 1: 0.5, 0: 0.5 }\n",
    "annos = subsample(annos, variable, props)\n",
    "\n",
    "ids = list(set(annos['subject_id'].get_values()))\n",
    "ids = np.random.permutation(ids)\n",
    "boundary = round(0.8 * len(ids))\n",
    "train_ids = set(ids[0:boundary])\n",
    "test_ids = set(ids[boundary:])\n",
    "\n",
    "train_images = []\n",
    "train_labels = []\n",
    "test_images = []\n",
    "test_labels = []\n",
    "for fp in glob.glob(image_folder + '*.jpg'):\n",
    "    fn = os.path.basename(fp)\n",
    "    image = mio.import_image(fp)\n",
    "    assert(image.shape == (height, width))\n",
    "    assert(image.n_channels == channels)\n",
    "    # if bool(np.random.randint(0,1)):\n",
    "    #     image = image.mirror()\n",
    "    id = annos.loc[annos['file_name'] == fn]['subject_id'].sum()\n",
    "    if id in train_ids:\n",
    "        train_images.append(image)\n",
    "        train_labels.append(annos.loc[annos['file_name'] == fn][variable].sum())\n",
    "    elif id in test_ids:\n",
    "        test_images.append(image)\n",
    "        test_labels.append(annos.loc[annos['file_name'] == fn][variable].sum())\n"
   ]
  },
  {
   "cell_type": "code",
   "execution_count": 5,
   "metadata": {
    "collapsed": false
   },
   "outputs": [
    {
     "name": "stdout",
     "output_type": "stream",
     "text": [
      "X_train shape: (2635, 128, 128, 3)\n",
      "2635 train samples\n",
      "679 test samples\n",
      "y_train shape: (2635, 2)\n"
     ]
    }
   ],
   "source": [
    "nb_classes = 2\n",
    "\n",
    "# input image dimensions\n",
    "img_rows, img_cols, img_channels = height, width, channels\n",
    "\n",
    "X_train = np.stack([img.pixels for img in train_images])\n",
    "X_test = np.stack([img.pixels for img in test_images])\n",
    "if K.image_dim_ordering() == 'tf':\n",
    "    X_train = X_train.reshape(X_train.shape[0], img_rows, img_cols, channels)\n",
    "    X_test = X_test.reshape(X_test.shape[0], img_rows, img_cols, channels)\n",
    "    input_shape = input_shape = (img_rows, img_cols, channels)\n",
    "else:\n",
    "    input_shape = (channels, img_rows, img_cols)\n",
    "    \n",
    "y_train = np.array(train_labels)\n",
    "y_test = np.array(test_labels)\n",
    "#(X_train, y_train), (X_test, y_test) = randomSplit(Xs, ys, 0.1)\n",
    "\n",
    "X_train = X_train.astype('float32')\n",
    "X_test = X_test.astype('float32')\n",
    "print('X_train shape:', X_train.shape)\n",
    "print(X_train.shape[0], 'train samples')\n",
    "print(X_test.shape[0], 'test samples')\n",
    "\n",
    "# convert class vectors to trinary class matrices\n",
    "y_train = np_utils.to_categorical(y_train, nb_classes)\n",
    "y_test = np_utils.to_categorical(y_test, nb_classes)\n",
    "\n",
    "print('y_train shape:', y_train.shape)\n",
    "\n",
    "X_train, y_train = randomOrder(X_train, y_train)\n",
    "X_test, y_test = randomOrder(X_test, y_test)"
   ]
  },
  {
   "cell_type": "code",
   "execution_count": null,
   "metadata": {
    "collapsed": false
   },
   "outputs": [],
   "source": [
    "from keras.preprocessing.image import ImageDataGenerator\n",
    "from keras.models import Sequential\n",
    "from keras.layers import Dense, Dropout, Activation, Flatten\n",
    "from keras.layers import Convolution2D, MaxPooling2D\n",
    "\n",
    "batch_size = 50\n",
    "nb_epoch = 2\n",
    "\n",
    "# number of convolutional filters to use\n",
    "nb_filters1 = 48\n",
    "# convolution kernel size\n",
    "kernel1 = (7, 7)\n",
    "# size of pooling area for max pooling\n",
    "pool1 = (3, 3)\n",
    "# strides for pooling\n",
    "strides1 = (2, 2)\n",
    "\n",
    "# number of convolutional filters to use\n",
    "nb_filters2 = 128\n",
    "# convolution kernel size\n",
    "kernel2 = (5, 5)\n",
    "# size of pooling area for max pooling\n",
    "pool2 = (3, 3)\n",
    "# strides for pooling\n",
    "strides2 = (2, 2)\n",
    "\n",
    "# number of convolutional filters to use\n",
    "nb_filters3 = 192\n",
    "# convolution kernel size\n",
    "kernel3 = (3, 3)\n",
    "# size of pooling area for max pooling\n",
    "pool3 = (3, 3)\n",
    "# strides for pooling\n",
    "strides3 = (2, 2)\n",
    "\n",
    "dense1 = 256\n",
    "dense2 = 256\n",
    "\n",
    "# keras.applications.vgg16.VGG16(include_top=True, weights='imagenet', input_tensor=None, input_shape=None)\n",
    "\n",
    "model = Sequential()\n",
    "\n",
    "model.add(Convolution2D(nb_filters1, kernel1[0], kernel1[1],\n",
    "                        border_mode='same',\n",
    "                        input_shape=input_shape))\n",
    "model.add(Activation('relu'))\n",
    "model.add(MaxPooling2D(pool_size=pool1, strides=strides1))\n",
    "#model.add(Dropout(0.2))\n",
    "model.add(Convolution2D(nb_filters2, kernel2[0], kernel2[1], border_mode='same'))\n",
    "model.add(Activation('relu'))\n",
    "model.add(MaxPooling2D(pool_size=pool2, strides=strides2))\n",
    "#model.add(Dropout(0.2))\n",
    "model.add(Convolution2D(nb_filters3, kernel3[0], kernel3[1], border_mode='same'))\n",
    "model.add(Activation('relu'))\n",
    "model.add(MaxPooling2D(pool_size=pool3, strides=strides3))\n",
    "#model.add(Dropout(0.2))\n",
    "\n",
    "model.add(Flatten())\n",
    "model.add(Dense(dense1))\n",
    "model.add(Activation('relu'))\n",
    "model.add(Dropout(0.5))\n",
    "model.add(Dense(dense2))\n",
    "model.add(Activation('relu'))\n",
    "model.add(Dropout(0.5))\n",
    "# model.add(Dense(1))\n",
    "# model.add(Activation('sigmoid'))\n",
    "model.add(Dense(nb_classes))\n",
    "model.add(Activation('softmax'))\n",
    "\n",
    "model.compile(loss='binary_crossentropy',\n",
    "              optimizer='rmsprop',\n",
    "              metrics=['accuracy'])\n",
    "\n",
    "datagen = ImageDataGenerator(\n",
    "    rotation_range=20,\n",
    "    zoom_range=0.2,\n",
    "    horizontal_flip=True)\n",
    "\n",
    "#datagen.fit(X_train)"
   ]
  },
  {
   "cell_type": "code",
   "execution_count": null,
   "metadata": {
    "collapsed": false
   },
   "outputs": [],
   "source": [
    "for l in model.layers:\n",
    "    print(l.name + \": \" + str(l.input_shape) + \"->\" + str(l.output_shape))"
   ]
  },
  {
   "cell_type": "code",
   "execution_count": null,
   "metadata": {
    "collapsed": false
   },
   "outputs": [
    {
     "name": "stdout",
     "output_type": "stream",
     "text": [
      "Epoch 1/2\n",
      "1000/2635 [==========>...................] - ETA: 170s - loss: 0.9993 - acc: 0.4920\b\b\b\b\b\b\b\b\b\b\b\b\b\b\b\b\b\b\b\b\b\b\b\b\b\b\b\b\b\b\b\b\b\b\b\b\b\b\b\b\b\b\b\b\b\b\b\b\b\b\b\b\b\b\b\b\b\b\b\b\b\b\b\b\b\b\b\b\b\b\b\b\b\b\b\b\b\b\b\b\b\b\b\b\b\b\b\b\b\b\b\b\b\b\b\b\b\b\b\b\b\b\b\b\b\b\b\b\b\b\b\b\b\b\b\b\b\b\b\b\b\b\b\b\b\b\b\b\b\b\b\b\b\b\b\b\b\b\b\b\b\b\b\b\b\b\b\b\b\b\b\b\b\b\b\b\b\b\b\b\b\b\b\b\b\b\b\b\b\b\b\b\b\b\b\b\b\b\b\b\b\b\b\b\b\b\b\b\b\b\b\b\b\b\b\b\b\b\b\b\b\b\b\b\b\b\b\b\b\b\b\b\b\b\b\b\b\b\b\b\b\b\b\b\b\b\b\b\b\b\b\b\b\b\b\b\b\b\b\b\b\b\b\b\b\b\b\b\b\b\b\b\b\b\b\b\b\b\b\b\b\b\b\b\b\b\b\b\b\b\b\b\b\b\b\b\b\b\b\b\b\b\b\b\b\b\b\b\b\b\b\b\b\b\b\b\b\b\b\b\b\b\b\b\b\b\b\b\b\b\b\b\b\b\b\b\b\b\b\b\b\b\b\b\b\b\b\b\b\b\b\b\b\b\b\b\b\b\b\b\b\b\b\b\b\b\b\b\b\b\b\b\b\b\b\b\b\b\b\b\b\b\b\b\b\b\b\b\b\b\b\b\b\b\b\b\b\b\b\b\b\b\b\b\b\b\b\b\b\b\b\b\b\b\b\b\b\b\b\b\b\b\b\b\b\b\b\b\b\b\b\b\b\b\b\b\b\b\b\b\b\b\b\b\b\b\b\b\b\b\b\b\b\b\b\b\b\b\b\b\b\b\b\b\b\b\b\b\b\b\b\b\b\b\b\b\b\b\b\b\b\b\b\b\b\b\b\b\b\b\b\b\b\b\b\b\b\b\b\b\b\b\b\b\b\b\b\b\b\b\b\b\b\b\b\b\b\b\b\b\b\b\b\b\b\b\b\b\b\b\b\b\b\b\b\b\b\b\b\b\b\b\b\b\b\b\b\b\b\b\b\b\b\b\b\b\b\b\b\b\b\b\b\b\b\b\b\b\b\b\b\b\b\b\b\b\b\b\b\b\b\b\b\b\b\b\b\b\b\b\b\b\b\b\b\b\b\b\b\b\b\b\b\b\b\b\b\b\b\b\b\b\b\b\b\b\b\b\b\b\b\b\b\b\b\b\b\b\b\b\b\b\b\b\b\b\b\b\b\b\b\b\b\b\b\b\b\b\b\b\b\b\b\b\b\b\b\b\b\b\b\b\b\b\b\b\b\b\b\b\b\b\b\b\b\b\b\b\b\b\b\b\b\b\b\b\b\b\b\b\b\b\b\b\b\b\b\b\b\b\b\b\b\b\b\b\b\b\b\b\b\b\b\b\b\b\b\b\b\b\b\b\b\b\b\b\b\b\b\b\b\b\b\b\b\b\b\b\b\b\b\b\b\b\b\b\b\b\b\b\b\b\b\b\b\b\b\b\b\b\b\b\b\b\b\b\b\b\b\b\b\b\b\b\b\b\b\b\b\b\b\b\b\b\b\b\b\b\b\b\b\b\b\b\b\b\b\b\b\b\b\b\b\b\b\b\b\b\b\b\b\b\b\b\b\b\b\b\b\b\b\b\b\b\b\b\b\b\b\b\b\b\b\b\b\b\b\b\b\b\b\b\b\b\b\b\b\b\b\b\b\b\b\b\b\b\b\b\b\b\b\b\b\b\b\b\b\b\b\b\b\b\b\b\b\b\b\b\b\b\b\b\b\b\b\b\b\b\b\b\b\b\b\b\b\b\b\b\b\b\b\b\b\b\b\b\b\b\b\b\b\b\b\b\b\b\b\b\b\b\b\b\b\b\b\b\b\b\b\b\b\b\b\b\b\b\b\b\b\b\b\b\b\b\b\b\b\b\b\b\b\b\b\b\b\b\b\b\b\b\b\b\b\b\b\b\b\b\b\b\b\b\b\b\b\b\b\b\b\b\b\b\b\b\b\b\b\b\b\b\b\b\b\b\b\b\b\b\b\b\b\b\b\b\b\b\b\b\b\b\b\b\b\b\b\b\b\b\b\b\b\b\b\b\b\b\b\b\b\b\b\b\b\b\b\b\b\b\b\b\b\b\b\b\b\b\b\b\b\b\b\b\b\b\b\b\b\b\b\b\b\b\b\b\b\b\b\b\b\b\b\b\b\b\b\b\b\b\b\b\b\b\b\b\b\b\b\b\b\b\b\b\b\b\b\b\b\b\b\b\b\b\b\b\b\b\b\b\b\b\b\b\b\b\b\b\b\b\b\b\b\b\b\b\b\b\b\b\b\b\b\b\b\b\b\b\b\b\b\b\b\b\b\b\b\b\b\b\b\b\b\b\b\b\b\b\b\b\b\b\b\b\b\b\b\b\b\b\b\b\b\b\b\b\b\b\b\b\b\b\b\b\b\b\b\b\b\b\b\b\b\b\b\b\b\b\b\b\b\b\b\b\b\b\b\b\b\b\b\b\b\b\b\b\b\b\b\b\b\b\b\b\b\b\b\b\b\b\b\b\b\b\b\b\b\b\b\b\b\b\b\b\b\b\b\b\b\b\b\b\b\b\b\b\b\b\b\b\b\b\b\b\b\b\b\b\b\b\b\b\b\b\b\b\b\b\b\b\b\b\b\b\b\b\b\b\b\b\b\b\b\b\b\b\b\b\b\b\b\b\b\b\b\b\b\b\b\b\b\b\b\b\b\b\b\b\b\b\b\b\b\b\b\b\b\b\b\b\b\b\b\b\b\b\b\b\b\b\b\b\b\b\b\b\b\b\b\b\b\b\b\b\b\b\b\b\b\b\b\b\b\b\b\b\b\b\b\b\b\b\b\b\b\b\b\b\b\b\b\b\b\b\b\b\b\b\b\b\b\b\b\b\b\b\b\b\b\b\b\b\b\b\b\b\b\b\b\b\b\b\b\b\b\b\b\b\b\b\b\b\b\b\b\b\b\b\b\b\b\b\b\b\b\b\b\b\b\b\b\b\b\b\b\b\b\b\b\b\b\b\b\b\b\b\b\b\b\b\b\b\b\b\b\b\b\b\b\b\b\b\b\b\b\b\b\b\b\b\b\b\b\b\b\b\b\b\b\b\b\b\b\b\b\b\b\b\b\b\b\b\b\b\b\b\b\b\b\b\b\b\b\b\b\b\b\b\b\b\b\b\b\b\b\b\b\b\b\b\b\b\b\b\b\b\b\b\b\b\b\b\b\b\b\b\b\b\b\b\b\b\b\b\b\b\b\b\b\b\b\b\b\b\b\b\b\b\b\b\b\b\b\b\b\b\b\b\b\b\b\b\b\b\b\b\b\b\b\b\b\b\b\b\b\b\b\b\b"
     ]
    }
   ],
   "source": [
    "# fits the model on batches with real-time data augmentation:\n",
    "model.fit_generator(datagen.flow(X_train, y_train, batch_size=batch_size),\n",
    "                    samples_per_epoch=len(X_train), nb_epoch=nb_epoch)\n",
    "\n",
    "score = model.evaluate(X_test, y_test, verbose=0)\n",
    "print('Test score:', score[0])\n",
    "print('Test accuracy:', score[1])"
   ]
  },
  {
   "cell_type": "code",
   "execution_count": null,
   "metadata": {
    "collapsed": false
   },
   "outputs": [],
   "source": [
    "model.save(\"overweight_classifier.h5\")"
   ]
  }
 ],
 "metadata": {
  "anaconda-cloud": {},
  "kernelspec": {
   "display_name": "Python 3",
   "language": "python",
   "name": "python3"
  },
  "language_info": {
   "codemirror_mode": {
    "name": "ipython",
    "version": 3
   },
   "file_extension": ".py",
   "mimetype": "text/x-python",
   "name": "python",
   "nbconvert_exporter": "python",
   "pygments_lexer": "ipython3",
   "version": "3.5.2"
  }
 },
 "nbformat": 4,
 "nbformat_minor": 1
}
