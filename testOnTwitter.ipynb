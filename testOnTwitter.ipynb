{
 "cells": [
  {
   "cell_type": "code",
   "execution_count": 1,
   "metadata": {
    "collapsed": false
   },
   "outputs": [
    {
     "name": "stderr",
     "output_type": "stream",
     "text": [
      "Using TensorFlow backend.\n"
     ]
    }
   ],
   "source": [
    "import os\n",
    "import pandas as pd\n",
    "import glob\n",
    "import menpo.io as mio\n",
    "import numpy as np\n",
    "#np.random.seed(1337)  # for reproducibility\n",
    "from keras.utils import np_utils\n",
    "from keras import backend as K"
   ]
  },
  {
   "cell_type": "code",
   "execution_count": 2,
   "metadata": {
    "collapsed": false
   },
   "outputs": [],
   "source": [
    "# returns (X_train, y_train), (X_test, y_test)\n",
    "def randomSplit(X, y, propTest):\n",
    "    assert X.shape[0] == y.shape[0]\n",
    "    p = np.random.permutation(len(y))\n",
    "    sX, sy = X[p], y[p]\n",
    "    cutoff = round(propTest * len(y))\n",
    "    return (sX[cutoff:], sy[cutoff:]), (sX[0:cutoff], sy[0:cutoff])\n",
    "\n",
    "def randomOrder(X, y):\n",
    "    p = np.random.permutation(len(y))\n",
    "    return X[p], y[p]\n",
    "\n",
    "def randomOrder(x, y, z):\n",
    "    p = np.random.permutation(len(y))\n",
    "    return x[p], y[p], z[p]\n",
    "\n",
    "# based on\n",
    "# http://www.socouldanyone.com/2013/03/converting-grayscale-to-rgb-with-numpy.html\n",
    "def to_rgb(im):\n",
    "    if im.n_channels == 1:\n",
    "        return np.vstack([im.pixels.astype(np.uint8)] * 3)\n",
    "    else:\n",
    "        return im.pixels\n",
    "\n",
    "def subsample(df, col, props = None):\n",
    "    labels = df[col].get_values()\n",
    "    counts = dict()\n",
    "    for l in labels:\n",
    "        counts[l] = counts.get(l, 0) + 1\n",
    "    countsOfProps = dict()\n",
    "    for l in set(labels):\n",
    "        countsOfProps[l] = counts.get(l, 0) * props.get(l, 0)\n",
    "    leastKey = min(countsOfProps, key=countsOfProps.get)\n",
    "    leastVal = round(countsOfProps[leastKey])\n",
    "    thresholds = dict()\n",
    "    for l in set(labels):\n",
    "        if props == None or not leastKey in props: # assume equal parts\n",
    "            thresholds[l] = leastVal\n",
    "        else:\n",
    "            labelToLabel = props.get(l, 0) / props[leastKey]\n",
    "            thresholds[l] = round(labelToLabel * leastVal)\n",
    "    df = df.reindex(np.random.permutation(df.index))\n",
    "    enough = dict()\n",
    "    ret = pd.DataFrame(index=np.arange(0, leastVal / props[leastKey]), columns=df.columns)\n",
    "    i = 0\n",
    "    for index, r in df.iterrows():\n",
    "        if(enough.get(r[col], 0) <= thresholds[r[col]]):\n",
    "            ret.loc[i] = r\n",
    "            enough[r[col]] = enough.get(r[col], 0) + 1\n",
    "            i += 1\n",
    "    return ret\n"
   ]
  },
  {
   "cell_type": "code",
   "execution_count": 3,
   "metadata": {
    "collapsed": true
   },
   "outputs": [],
   "source": [
    "data_file = 'idToLabel.tsv'\n",
    "image_folder = './croppedTwitter/' # must end with '/'\n",
    "variable = 'ow'# relevant column of data_file\n",
    "height = 128\n",
    "width = 128\n",
    "channels = 3"
   ]
  },
  {
   "cell_type": "code",
   "execution_count": 4,
   "metadata": {
    "collapsed": false
   },
   "outputs": [],
   "source": [
    "annos = pd.DataFrame.from_csv(data_file, header=0, index_col=None, sep=\"\\t\")\n",
    "annos['id'] = [str(int(x)) for x in annos['id']]\n",
    "\n",
    "test_images = []\n",
    "test_labels = []\n",
    "test_ids = []\n",
    "for fp in glob.glob(image_folder + '*.jpg'):\n",
    "    fnWithExtension = os.path.basename(fp)\n",
    "    fn = os.path.splitext(fnWithExtension)[0]\n",
    "    image = mio.import_image(fp)\n",
    "    assert(image.shape == (height, width))\n",
    "    test_images.append(image)\n",
    "    test_labels.append(annos.loc[annos['id'] == fn][variable].sum())\n",
    "    test_ids.append(annos.loc[annos['id'] == fn][\"id\"].sum())\n"
   ]
  },
  {
   "cell_type": "code",
   "execution_count": 5,
   "metadata": {
    "collapsed": false
   },
   "outputs": [
    {
     "name": "stdout",
     "output_type": "stream",
     "text": [
      "X_test shape: (5462, 128, 128, 3)\n",
      "5462 test samples\n"
     ]
    }
   ],
   "source": [
    "nb_classes = 2\n",
    "\n",
    "# input image dimensions\n",
    "img_rows, img_cols, img_channels = height, width, channels\n",
    "\n",
    "X_test = np.stack([to_rgb(img) for img in test_images])\n",
    "if K.image_dim_ordering() == 'tf':\n",
    "    X_test = X_test.reshape(X_test.shape[0], img_rows, img_cols, channels)\n",
    "    input_shape = input_shape = (img_rows, img_cols, channels)\n",
    "else:\n",
    "    input_shape = (channels, img_rows, img_cols)\n",
    "    \n",
    "y_test = np.array(test_labels)\n",
    "\n",
    "X_test = X_test.astype('float32')\n",
    "print('X_test shape:', X_test.shape)\n",
    "print(X_test.shape[0], 'test samples')\n",
    "\n",
    "# convert class vectors to n-ary class matrices\n",
    "y_test = np_utils.to_categorical(y_test, nb_classes)\n",
    "\n",
    "id_test = np.array(test_ids)\n",
    "\n",
    "X_test, y_test, id_test = randomOrder(X_test, y_test, id_test)"
   ]
  },
  {
   "cell_type": "code",
   "execution_count": 6,
   "metadata": {
    "collapsed": false
   },
   "outputs": [
    {
     "name": "stdout",
     "output_type": "stream",
     "text": [
      "Test score: 0.0147912029825\n",
      "Test accuracy: 0.999084584401\n"
     ]
    }
   ],
   "source": [
    "from keras.models import load_model\n",
    "\n",
    "model = load_model(\"overweight_classifier.h5\")\n",
    "\n",
    "score = model.evaluate(X_test, y_test, verbose=0)\n",
    "print('Test score:', score[0])\n",
    "print('Test accuracy:', score[1])"
   ]
  },
  {
   "cell_type": "code",
   "execution_count": 7,
   "metadata": {
    "collapsed": false,
    "scrolled": true
   },
   "outputs": [
    {
     "name": "stdout",
     "output_type": "stream",
     "text": [
      "[  5.07050061e-07   1.36850908e-09   1.84489437e-07 ...,   1.39028657e-07\n",
      "   3.40872113e-08   1.74147135e-06]\n",
      "[ 0.99999952  1.          0.99999976 ...,  0.99999988  1.          0.99999821]\n"
     ]
    }
   ],
   "source": [
    "s = model.predict(X_test)\n",
    "print(s[:,0])\n",
    "print(s[:,1])"
   ]
  },
  {
   "cell_type": "code",
   "execution_count": 21,
   "metadata": {
    "collapsed": false
   },
   "outputs": [
    {
     "data": {
      "text/plain": [
       "5457.0"
      ]
     },
     "execution_count": 21,
     "metadata": {},
     "output_type": "execute_result"
    }
   ],
   "source": [
    "y_test[:,1].sum()"
   ]
  }
 ],
 "metadata": {
  "anaconda-cloud": {},
  "kernelspec": {
   "display_name": "Python 3",
   "language": "python",
   "name": "python3"
  },
  "language_info": {
   "codemirror_mode": {
    "name": "ipython",
    "version": 3
   },
   "file_extension": ".py",
   "mimetype": "text/x-python",
   "name": "python",
   "nbconvert_exporter": "python",
   "pygments_lexer": "ipython3",
   "version": "3.5.2"
  }
 },
 "nbformat": 4,
 "nbformat_minor": 1
}
