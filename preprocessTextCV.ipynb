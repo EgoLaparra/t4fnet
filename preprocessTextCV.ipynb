{
 "cells": [
  {
   "cell_type": "markdown",
   "metadata": {},
   "source": [
    "# Text preprocessing\n",
    "\n",
    "This script pickles the dataset for use in LSTMs etc.\n",
    "\n",
    "It is adapted from the preprocessing script at http://deeplearning.net/tutorial/lstm.html\n",
    "\n",
    "Reserved indices:\n",
    "* 0 = padding\n",
    "* 1 = start\n",
    "* 2 = OOV (out of vocabulary)"
   ]
  },
  {
   "cell_type": "code",
   "execution_count": 1,
   "metadata": {
    "collapsed": true
   },
   "outputs": [],
   "source": [
    "dataset_path='/data/nlp/corpora/twitter4food/overweightData_tokenized/rawTokens/'"
   ]
  },
  {
   "cell_type": "code",
   "execution_count": 2,
   "metadata": {
    "collapsed": false
   },
   "outputs": [],
   "source": [
    "import numpy as np\n",
    "import pickle as pkl\n",
    "from collections import OrderedDict\n",
    "import glob\n",
    "import os"
   ]
  },
  {
   "cell_type": "code",
   "execution_count": 3,
   "metadata": {
    "collapsed": false
   },
   "outputs": [],
   "source": [
    "def build_dict(path):\n",
    "    sentences = []\n",
    "    currdir = os.getcwd()\n",
    "    dirs = [x[0] for x in os.walk(path)]\n",
    "    print('Reading from %i directories in %s' % (len(dirs), path))\n",
    "    for dir in dirs:\n",
    "        least = min(len(dir), len(path))\n",
    "        if (dir[-least:] != path[-least:]):\n",
    "            os.chdir(dir)\n",
    "            print('Reading %i files in %s' % (len(glob.glob('*.txt')), dir))\n",
    "            for ff in glob.glob(\"*.txt\"):\n",
    "                with open(ff, 'r') as f:\n",
    "                    for line in f.readlines():\n",
    "                        sentences.append(line.strip())\n",
    "    os.chdir(currdir)\n",
    "    \n",
    "    print('Found %i sentences' % len(sentences))\n",
    "\n",
    "    print('Building dictionary')\n",
    "    wordcount = dict()\n",
    "    for ss in sentences:\n",
    "        words = ss.strip().lower().split()\n",
    "        for w in words:\n",
    "            if w in wordcount:\n",
    "                wordcount[w] = wordcount[w] + 1\n",
    "            else:\n",
    "                wordcount[w] = 1\n",
    "\n",
    "    counts = list(wordcount.values())\n",
    "    keys = list(wordcount.keys())\n",
    "\n",
    "    sorted_idx = np.argsort(counts)[::-1]\n",
    "\n",
    "    worddict = dict()\n",
    "\n",
    "    for idx, ss in enumerate(sorted_idx):\n",
    "        worddict[keys[ss]] = idx\n",
    "\n",
    "    print(np.sum(counts), ' total words ', len(keys), ' unique words')\n",
    "\n",
    "    return worddict\n",
    "\n",
    "\n",
    "def grab_data(path, dictionary):\n",
    "    sentences = []\n",
    "    currdir = os.getcwd()\n",
    "    os.chdir(path)\n",
    "    for ff in glob.glob(\"*.txt\"):\n",
    "        account = []\n",
    "        with open(ff, 'r') as f:\n",
    "            for line in f.readlines():\n",
    "                account.append(line.strip())\n",
    "        sentences.append(account)\n",
    "    os.chdir(currdir)\n",
    "\n",
    "    seqs = [None] * len(sentences)\n",
    "    for i, account in enumerate(sentences):\n",
    "        seqs[i] = [None] * len(account)\n",
    "        for j, ss in enumerate(account):\n",
    "            seqs[i][j] = []\n",
    "            words = ss.strip().lower().split()\n",
    "            for w in words:\n",
    "                if w in dictionary:\n",
    "                    seqs[i][j].append(dictionary[w]) # skip OOV here\n",
    "        \n",
    "    return seqs"
   ]
  },
  {
   "cell_type": "code",
   "execution_count": 6,
   "metadata": {
    "collapsed": false
   },
   "outputs": [
    {
     "name": "stdout",
     "output_type": "stream",
     "text": [
      "Reading from 3 directories in /data/nlp/corpora/twitter4food/overweightData_tokenized/rawTokens/\n",
      "Reading 677 files in /data/nlp/corpora/twitter4food/overweightData_tokenized/rawTokens/Overweight\n",
      "Reading 677 files in /data/nlp/corpora/twitter4food/overweightData_tokenized/rawTokens/Notoverweight\n",
      "Found 2807312 sentences\n",
      "Building dictionary\n",
      "43054848  total words  816757  unique words\n",
      "1354 accounts\n"
     ]
    }
   ],
   "source": [
    "path = dataset_path\n",
    "dictionary = build_dict(path)\n",
    "\n",
    "x_pos = grab_data(path+'Overweight', dictionary)\n",
    "x_neg = grab_data(path+'Notoverweight', dictionary)\n",
    "y_pos = [1] * len(x_pos)\n",
    "y_neg = [0] * len(x_neg)\n",
    "print('%i accounts' % (len(y_pos) + len(y_neg)))\n",
    "\n",
    "f = open('ow3d.pkl', 'wb')\n",
    "pkl.dump((x_pos, y_pos), f, -1)\n",
    "pkl.dump((x_neg, y_neg), f, -1)\n",
    "f.close()\n",
    "\n",
    "f = open('ow3d.dict.pkl', 'wb')\n",
    "pkl.dump(dictionary, f, -1)\n",
    "f.close()"
   ]
  }
 ],
 "metadata": {
  "kernelspec": {
   "display_name": "Python 3",
   "language": "python",
   "name": "python3"
  },
  "language_info": {
   "codemirror_mode": {
    "name": "ipython",
    "version": 3
   },
   "file_extension": ".py",
   "mimetype": "text/x-python",
   "name": "python",
   "nbconvert_exporter": "python",
   "pygments_lexer": "ipython3",
   "version": "3.4.5"
  }
 },
 "nbformat": 4,
 "nbformat_minor": 2
}
